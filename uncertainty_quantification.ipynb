{
 "cells": [
  {
   "cell_type": "markdown",
   "metadata": {},
   "source": [
    "## A simple 1D uncertainty quantification demo.\n",
    "\n",
    "You are tasked with computing the mean and variance of a single-input-single-output model. The model has the form\n",
    "\n",
    "$$ f(s) = 4sin(2s \\pi - 3.2) + 6.1 s^3 - 2.5$$\n",
    "\n",
    "\n",
    "where the input parameter $s$ has a Gaussian distribution with a mean of 3.2 and a variance of unity. What are the moments of the output $f(s)$?"
   ]
  },
  {
   "cell_type": "code",
   "execution_count": 1,
   "metadata": {},
   "outputs": [],
   "source": [
    "import numpy as np\n",
    "from equadratures import *\n",
    "import matplotlib.pyplot as plt"
   ]
  },
  {
   "cell_type": "code",
   "execution_count": 2,
   "metadata": {},
   "outputs": [],
   "source": [
    "def fun(si):\n",
    "    return 4. * np.sin(2. * np.pi * si - 3.2) + 6.1 * si**3 - 2.5"
   ]
  },
  {
   "cell_type": "code",
   "execution_count": 31,
   "metadata": {},
   "outputs": [],
   "source": [
    "s = Parameter(distribution='Gaussian', shape_parameter_A=3.2, shape_parameter_B=1.0, order=30)\n",
    "basis = Basis('univariate')\n",
    "poly = Poly(s, basis, method='numerical-integration')\n",
    "poly.set_model(fun)"
   ]
  },
  {
   "cell_type": "code",
   "execution_count": 32,
   "metadata": {},
   "outputs": [
    {
     "data": {
      "text/plain": [
       "(255.94479999002928, 49404.65729103613)"
      ]
     },
     "execution_count": 32,
     "metadata": {},
     "output_type": "execute_result"
    }
   ],
   "source": [
    "poly.get_mean_and_variance()"
   ]
  },
  {
   "cell_type": "code",
   "execution_count": 26,
   "metadata": {},
   "outputs": [
    {
     "data": {
      "text/plain": [
       "(256.3988799713615, 49524.63985241292)"
      ]
     },
     "execution_count": 26,
     "metadata": {},
     "output_type": "execute_result"
    }
   ],
   "source": [
    "n = 1000000\n",
    "S = np.random.randn(n,1) + 3.2\n",
    "f_S = evaluate_model(S, fun)\n",
    "np.mean(f_S), np.var(f_S)"
   ]
  }
 ],
 "metadata": {
  "kernelspec": {
   "display_name": "Python 3",
   "language": "python",
   "name": "python3"
  },
  "language_info": {
   "codemirror_mode": {
    "name": "ipython",
    "version": 3
   },
   "file_extension": ".py",
   "mimetype": "text/x-python",
   "name": "python",
   "nbconvert_exporter": "python",
   "pygments_lexer": "ipython3",
   "version": "3.7.1"
  }
 },
 "nbformat": 4,
 "nbformat_minor": 2
}
